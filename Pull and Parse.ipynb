{
 "cells": [
  {
   "cell_type": "code",
   "execution_count": null,
   "id": "2f8a9847",
   "metadata": {},
   "outputs": [],
   "source": [
    "pip install selenium\n",
    "pip install pandas\n",
    "pip install beautifulsoup4"
   ]
  },
  {
   "cell_type": "code",
   "execution_count": 2,
   "id": "05eebcd8",
   "metadata": {},
   "outputs": [],
   "source": [
    "from selenium import webdriver\n",
    "from selenium.webdriver.chrome.options import Options\n",
    "import pandas as pd\n",
    "from bs4 import BeautifulSoup\n",
    "import time\n",
    "\n"
   ]
  },
  {
   "cell_type": "code",
   "execution_count": 4,
   "id": "6f956152",
   "metadata": {},
   "outputs": [],
   "source": [
    "chrome_path = 'C:\\Program Files (x86)\\Google\\Chrome\\Application\\chrome.exe'\n",
    "df = pd.read_excel(r'C:\\Users\\U6060174\\OneDrive - Clarivate Analytics\\Desktop\\Files\\Jupyter Notebook Work\\Excel File\\url.xlsx')\n",
    "\n",
    "chrome_options = Options()\n",
    "chrome_options.add_argument('--no-sandbox')\n",
    "chrome_options.add_argument('--disable-dev-shm-usage')\n",
    "chrome_options.binary_location = chrome_path\n",
    "\n",
    "driver = webdriver.Chrome(options=chrome_options)\n",
    "\n",
    "for i, row in df.iterrows():\n",
    "    url = row['{URL}']\n",
    "    name = row['{Name}']\n",
    "    try:\n",
    "        driver.get(url)\n",
    "        time.sleep(15)\n",
    "        html = driver.page_source\n",
    "        with open(f'C:\\\\Users\\\\U6060174\\\\OneDrive - Clarivate Analytics\\\\Desktop\\Files\\\\Jupyter Notebook Work\\\\Pages\\\\{name}.html', 'w', encoding='utf-8') as f:\n",
    "            f.write(html)\n",
    "            time.sleep(5)  # add a 5 seconds delay\n",
    "    except Exception as e:\n",
    "        print(f\"Error occurred while saving the page for {url}: {e}\")\n",
    "    \n",
    "driver.quit()"
   ]
  },
  {
   "cell_type": "code",
   "execution_count": 5,
   "id": "99b67f18",
   "metadata": {},
   "outputs": [],
   "source": [
    "df_data = pd.DataFrame(columns=['Name', 'Data'])\n",
    "\n",
    "for i, row in df.iterrows():\n",
    "    name = row['{Name}']\n",
    "    file_path = f'C:\\\\Users\\\\U6060174\\\\OneDrive - Clarivate Analytics\\\\Desktop\\Files\\\\Jupyter Notebook Work\\\\Pages\\\\{name}.html'\n",
    "    \n",
    "    with open(file_path, 'r', encoding='utf-8') as f:\n",
    "        html = f.read()\n",
    "\n",
    "    soup = BeautifulSoup(html, 'html.parser')\n",
    "    \n",
    "    text = soup.get_text(separator='\\n')\n",
    "    \n",
    "    df_data = pd.concat([df_data, pd.DataFrame({'Name': name, 'Data': text}, index=[0])])\n",
    "\n",
    "df_data.to_excel(r'C:\\Users\\U6060174\\OneDrive - Clarivate Analytics\\Desktop\\Files\\Jupyter Notebook Work\\Excel File\\scraped_data.xlsx', index=False)"
   ]
  },
  {
   "cell_type": "code",
   "execution_count": null,
   "id": "1b33978b",
   "metadata": {},
   "outputs": [],
   "source": []
  }
 ],
 "metadata": {
  "kernelspec": {
   "display_name": "Python 3 (ipykernel)",
   "language": "python",
   "name": "python3"
  },
  "language_info": {
   "codemirror_mode": {
    "name": "ipython",
    "version": 3
   },
   "file_extension": ".py",
   "mimetype": "text/x-python",
   "name": "python",
   "nbconvert_exporter": "python",
   "pygments_lexer": "ipython3",
   "version": "3.9.13"
  }
 },
 "nbformat": 4,
 "nbformat_minor": 5
}
