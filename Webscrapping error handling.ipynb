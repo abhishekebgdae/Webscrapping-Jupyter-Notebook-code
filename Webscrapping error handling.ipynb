{
 "cells": [
  {
   "cell_type": "code",
   "execution_count": null,
   "id": "598e8663",
   "metadata": {},
   "outputs": [],
   "source": [
    "import time\n",
    "import logging\n",
    "import pandas as pd\n",
    "from selenium import webdriver\n",
    "from selenium.webdriver.chrome.options import Options\n",
    "from selenium.common.exceptions import TimeoutException, WebDriverException"
   ]
  },
  {
   "cell_type": "code",
   "execution_count": null,
   "id": "aac091f6",
   "metadata": {},
   "outputs": [],
   "source": [
    "# configure logging\n",
    "logging.basicConfig(filename='error.log', level=logging.ERROR)\n",
    "\n",
    "chrome_path = 'C:\\Program Files (x86)\\Google\\Chrome\\Application\\chrome.exe'\n",
    "df = pd.read_excel(r'C:\\Users\\U6060174\\OneDrive - Clarivate Analytics\\Desktop\\Files\\NGB Yazaki\\US\\url_rerun_1.xlsx')\n",
    "\n",
    "chrome_options = Options()\n",
    "chrome_options.add_argument('--no-sandbox')\n",
    "chrome_options.add_argument('--disable-dev-shm-usage')\n",
    "chrome_options.binary_location = chrome_path\n",
    "\n",
    "driver = webdriver.Chrome(options=chrome_options)\n",
    "retry_count = 3  # number of times to retry if an error occurs\n",
    "for i, row in df.iterrows():\n",
    "    url = row['{URL}']\n",
    "    name = row['{Name}']\n",
    "    for _ in range(retry_count):  # retry loop\n",
    "        try:\n",
    "            driver.delete_all_cookies()\n",
    "            driver.set_page_load_timeout(30)  # set a page load timeout of 30 seconds\n",
    "            driver.get(url)\n",
    "            time.sleep(25)\n",
    "            html = driver.page_source\n",
    "            with open(f'C:\\\\Users\\\\U6060174\\\\OneDrive - Clarivate Analytics\\\\Desktop\\Files\\\\NGB Yazaki\\\\US\\\\Patent Center Page\\\\{name}.html', 'w', encoding='utf-8') as f:\n",
    "                f.write(html)\n",
    "                time.sleep(5)  # add a 5 seconds delay\n",
    "            break  # break out of the retry loop if successful\n",
    "        except (TimeoutException, WebDriverException) as e:\n",
    "            logging.error(f\"Error occurred while saving the page for {url}: {e}\")\n",
    "            print(f\"Error occurred while saving the page for {url}: {e}\")\n",
    "            time.sleep(10)  # add a 10 seconds delay before retrying\n",
    "    else:  # executed if the retry loop completes without success\n",
    "        logging.error(f\"Failed to save the page after {retry_count} retries for {url}\")\n",
    "        print(f\"Failed to save the page after {retry_count} retries for {url}\")\n",
    "    \n",
    "driver.quit()\n"
   ]
  },
  {
   "cell_type": "code",
   "execution_count": null,
   "id": "ba5651ef",
   "metadata": {},
   "outputs": [],
   "source": [
    "df_data = pd.DataFrame(columns=['Name', 'Data', 'Status'])\n",
    "\n",
    "for i, row in df.iterrows():\n",
    "    name = row['{Name}']\n",
    "    file_path = f'C:\\\\Users\\\\U6060174\\\\OneDrive - Clarivate Analytics\\\\Desktop\\\\Files\\\\NGB Yazaki\\\\US\\\\Patent Center Page\\\\{name}.html'\n",
    "    status = 'Success' # set default status as success\n",
    "    \n",
    "    try:\n",
    "        with open(file_path, 'r', encoding='utf-8') as f:\n",
    "            html = f.read()\n",
    "\n",
    "        soup = BeautifulSoup(html, 'html.parser')\n",
    "\n",
    "        text = soup.get_text(separator='\\n')\n",
    "        text = text.replace('<div>', '<div> ')\n",
    "        text = text.replace('\\n', ' \\n')\n",
    "    except Exception as e:\n",
    "        print(f\"Error occurred while processing the file for {name}: {e}\")\n",
    "        text = ''\n",
    "        status = 'Error' # set status as error if there's an exception\n",
    "    \n",
    "    df_data = pd.concat([df_data, pd.DataFrame({'Name': name, 'Data': text, 'Status': status}, index=[0])])\n",
    "\n",
    "df_data.to_excel(r'C:\\Users\\U6060174\\OneDrive - Clarivate Analytics\\Desktop\\Files\\NGB Yazaki\\US\\scraped_data.xlsx', index=False)\n"
   ]
  }
 ],
 "metadata": {
  "kernelspec": {
   "display_name": "Python 3 (ipykernel)",
   "language": "python",
   "name": "python3"
  },
  "language_info": {
   "codemirror_mode": {
    "name": "ipython",
    "version": 3
   },
   "file_extension": ".py",
   "mimetype": "text/x-python",
   "name": "python",
   "nbconvert_exporter": "python",
   "pygments_lexer": "ipython3",
   "version": "3.9.13"
  }
 },
 "nbformat": 4,
 "nbformat_minor": 5
}
